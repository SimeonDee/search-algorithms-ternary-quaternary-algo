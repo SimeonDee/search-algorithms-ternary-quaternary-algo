{
 "cells": [
  {
   "cell_type": "markdown",
   "metadata": {},
   "source": [
    "# Implementing Search Algorithms in Python"
   ]
  },
  {
   "cell_type": "markdown",
   "metadata": {},
   "source": [
    "    *************************************************************\n",
    "    Name:    Adeyemi Adedoyin Simeon\n",
    "    Program: MSc, Computer Science, University of Ibadan\n",
    "    Course:  Design and Analysis of Algorithms\n",
    "    Date:    5th May, 2019\n",
    "    Version: 1.2\n",
    "    E-mail:  adeyemi.sa1@gmail.com\n",
    "    *************************************************************\n",
    "    \n",
    "    *Note: Please reference the author whenever and wherever you use all/portion of this code*"
   ]
  },
  {
   "cell_type": "markdown",
   "metadata": {},
   "source": [
    "### QUESTION: \n",
    "Implement the Ternary and Quaternary Search Algorithmns Using Any Programming Language of Choice"
   ]
  },
  {
   "cell_type": "markdown",
   "metadata": {},
   "source": [
    "### SOLUTION   (in Python)"
   ]
  },
  {
   "cell_type": "markdown",
   "metadata": {},
   "source": [
    "### 1. TERNARY SEARCH ALGORITHM"
   ]
  },
  {
   "cell_type": "markdown",
   "metadata": {},
   "source": [
    "### Recursive Approach to Ternary Search"
   ]
  },
  {
   "cell_type": "code",
   "execution_count": 52,
   "metadata": {},
   "outputs": [],
   "source": [
    "def ternarySearchRecursive(A,key,l,r):\n",
    "    if (r >= 1):\n",
    "        mid1 = l + (r - 1) // 3\n",
    "        mid2 = r - (r - 1) // 3\n",
    "        \n",
    "        #if key is at mid return it\n",
    "        if (A[mid1] == key):\n",
    "            return mid1\n",
    "        \n",
    "        if (A[mid2] == key):\n",
    "            return mid2\n",
    "        \n",
    "        #if key not at mid, find region and repeat search\n",
    "        if (key < A[mid1]):\n",
    "            #Key btw l and mid1\n",
    "            return ternarySearchRecursive(A, key, l, mid1 - 1)\n",
    "        \n",
    "        elif (key > A[mid2]):\n",
    "            #key btw mid2 and r\n",
    "            return ternarySearchRecursive(A, key, mid2 + 1, r)\n",
    "        \n",
    "        else:\n",
    "            #key btw mid1 and mid2\n",
    "            return ternarySearchRecursive(A, key, mid1 + 1, mid2 - 1)\n",
    "    \n",
    "    #key not found\n",
    "    return -1\n",
    "        \n",
    "            "
   ]
  },
  {
   "cell_type": "markdown",
   "metadata": {},
   "source": [
    "## Iterative Approach to Ternary Search Algorithm"
   ]
  },
  {
   "cell_type": "code",
   "execution_count": 57,
   "metadata": {},
   "outputs": [],
   "source": [
    "def ternarySearchIterative(A,key,l,r):\n",
    "    while(r >= 1):\n",
    "        mid1 = l + (r - 1) // 3\n",
    "        mid2 = r - (r - 1) // 3\n",
    "        \n",
    "        #if key is at mid return it\n",
    "        if (A[mid1] == key):\n",
    "            return mid1\n",
    "        \n",
    "        if (A[mid2] == key):\n",
    "            return mid2\n",
    "        \n",
    "        #if key not at mid, find region and repeat search\n",
    "        if (key < A[mid1]):\n",
    "            #Key btw l and mid1\n",
    "            r = mid1 - 1\n",
    "        \n",
    "        elif (key > A[mid2]):\n",
    "            #Key btw mid2 and r\n",
    "            l = mid2 + 1\n",
    "        \n",
    "        else:\n",
    "            #Key btw mid1 and mid2\n",
    "            l = mid1 + 1\n",
    "            r = mid2 - 1\n",
    "        \n",
    "    #key not found   \n",
    "    return -1\n",
    "            \n",
    "            "
   ]
  },
  {
   "cell_type": "code",
   "execution_count": null,
   "metadata": {},
   "outputs": [],
   "source": []
  },
  {
   "cell_type": "markdown",
   "metadata": {},
   "source": [
    "# QUATERNARY SERACH ALGORITHM"
   ]
  },
  {
   "cell_type": "markdown",
   "metadata": {},
   "source": [
    "# Recursive Approach to Quaternary Search"
   ]
  },
  {
   "cell_type": "code",
   "execution_count": 63,
   "metadata": {},
   "outputs": [],
   "source": [
    "def quaternarySearchRecursive(A,key,l,r):\n",
    "    if (r >= 1):\n",
    "        mid1 = l + (r - 1) // 4\n",
    "        mid2 = l + (r - 1) // 2\n",
    "        mid3 = l + (3 * (r - l)) // 4\n",
    "        \n",
    "        #if key is at mid return it\n",
    "        if (A[mid1] == key):\n",
    "            return mid1\n",
    "        \n",
    "        if (A[mid2] == key):\n",
    "            return mid2\n",
    "                    \n",
    "        if (A[mid3] == key):\n",
    "            return mid3\n",
    "        \n",
    "        #if key not at mid, find region and repeat search\n",
    "        if (key < A[mid1]):\n",
    "            #Key btw l and mid1\n",
    "            return quaternarySearchRecursive(A, key, l, mid1 - 1)\n",
    "        \n",
    "        elif (key < A[mid2]):\n",
    "            #Key btw l and mid1\n",
    "            return quaternarySearchRecursive(A, key, mid1 + 1, mid2 - 1)\n",
    "        \n",
    "        elif (key > A[mid2] and key < A[mid3]):\n",
    "            #Key btw l and mid1\n",
    "            return quaternarySearchRecursive(A, key, mid2+1, mid3 - 1)\n",
    "        \n",
    "        else:\n",
    "            #key btw mid1 and mid2\n",
    "            return quaternarySearchRecursive(A, key, mid3 + 1, r)\n",
    "    \n",
    "    #key not found\n",
    "    return -1            "
   ]
  },
  {
   "cell_type": "code",
   "execution_count": null,
   "metadata": {},
   "outputs": [],
   "source": []
  },
  {
   "cell_type": "markdown",
   "metadata": {},
   "source": [
    "# Iterative Approach to Quaternary Search Algorithm"
   ]
  },
  {
   "cell_type": "code",
   "execution_count": 75,
   "metadata": {},
   "outputs": [],
   "source": [
    "def quaternarySearchIterative(A,key,l,r):\n",
    "    while (r >= 1):\n",
    "        mid1 = l + (r - 1) // 4\n",
    "        mid2 = l + (r - 1) // 2\n",
    "        mid3 = l + (3 * (r - l)) // 4\n",
    "        \n",
    "        #if key is at mid return it\n",
    "        if (A[mid1] == key):\n",
    "            return mid1\n",
    "        \n",
    "        if (A[mid2] == key):\n",
    "            return mid2\n",
    "                    \n",
    "        if (A[mid3] == key):\n",
    "            return mid3\n",
    "        \n",
    "        #if key not at mid, find region and repeat search\n",
    "        if (key < A[mid1]):\n",
    "            #Key btw l and mid1\n",
    "            r = mid1 - 1\n",
    "        \n",
    "        elif (key < A[mid2]):\n",
    "            #Key btw l and mid1\n",
    "            l = mid1 + 1\n",
    "            r = mid2 - 1\n",
    "        \n",
    "        elif (key > A[mid2] and key < A[mid3]):\n",
    "            #Key btw l and mid1\n",
    "            l = mid2 + 1\n",
    "            r = mid3 - 1\n",
    "        \n",
    "        else:\n",
    "            #key btw mid1 and mid2\n",
    "            l = mid3 + 1\n",
    "    \n",
    "    #key not found\n",
    "    return -1            "
   ]
  },
  {
   "cell_type": "markdown",
   "metadata": {},
   "source": [
    "# EVALUATIONS"
   ]
  },
  {
   "cell_type": "markdown",
   "metadata": {},
   "source": [
    "### ------------------------- Ternary Search --------------------------------"
   ]
  },
  {
   "cell_type": "markdown",
   "metadata": {},
   "source": [
    "### Evaluation of Recursive TernarySearch"
   ]
  },
  {
   "cell_type": "code",
   "execution_count": 53,
   "metadata": {},
   "outputs": [],
   "source": [
    "Arr = list(range(1,11))"
   ]
  },
  {
   "cell_type": "code",
   "execution_count": 54,
   "metadata": {},
   "outputs": [],
   "source": [
    "l,r,key = 0,len(Arr) - 1,5"
   ]
  },
  {
   "cell_type": "code",
   "execution_count": 55,
   "metadata": {},
   "outputs": [],
   "source": [
    "pos = ternarySearchRecursive(Arr,key,l,r,)"
   ]
  },
  {
   "cell_type": "code",
   "execution_count": 56,
   "metadata": {},
   "outputs": [
    {
     "name": "stdout",
     "output_type": "stream",
     "text": [
      "Index of  5  is  4\n"
     ]
    }
   ],
   "source": [
    "print('Index of ',key,' is ', pos)"
   ]
  },
  {
   "cell_type": "markdown",
   "metadata": {},
   "source": [
    "### Evaluation of Iterative Ternary Search"
   ]
  },
  {
   "cell_type": "code",
   "execution_count": 67,
   "metadata": {},
   "outputs": [],
   "source": [
    "Arr2 = list(range(1,11))"
   ]
  },
  {
   "cell_type": "code",
   "execution_count": 68,
   "metadata": {},
   "outputs": [],
   "source": [
    "l2,r2,key2 = 0,len(Arr2) - 1,5"
   ]
  },
  {
   "cell_type": "code",
   "execution_count": 69,
   "metadata": {},
   "outputs": [],
   "source": [
    "pos = ternarySearchIterative(Arr2,key2,l2,r2)"
   ]
  },
  {
   "cell_type": "code",
   "execution_count": 70,
   "metadata": {
    "scrolled": false
   },
   "outputs": [
    {
     "name": "stdout",
     "output_type": "stream",
     "text": [
      "Index of  5  is  4\n"
     ]
    }
   ],
   "source": [
    "print('Index of ',key2,' is ', pos)"
   ]
  },
  {
   "cell_type": "markdown",
   "metadata": {},
   "source": [
    "### ------------------------------------ Quaternary Search ------------------------------------------------"
   ]
  },
  {
   "cell_type": "markdown",
   "metadata": {},
   "source": [
    "### Evaluation of Recursive Quaternary Search"
   ]
  },
  {
   "cell_type": "code",
   "execution_count": 71,
   "metadata": {},
   "outputs": [],
   "source": [
    "Arr = list(range(1,11))"
   ]
  },
  {
   "cell_type": "code",
   "execution_count": 72,
   "metadata": {},
   "outputs": [],
   "source": [
    "l,r,key = 0,len(Arr) - 1,5"
   ]
  },
  {
   "cell_type": "code",
   "execution_count": 73,
   "metadata": {},
   "outputs": [],
   "source": [
    "pos = quaternarySearchRecursive(Arr,key,l,r)"
   ]
  },
  {
   "cell_type": "code",
   "execution_count": 74,
   "metadata": {
    "scrolled": false
   },
   "outputs": [
    {
     "name": "stdout",
     "output_type": "stream",
     "text": [
      "Index of  5  is  4\n"
     ]
    }
   ],
   "source": [
    "print('Index of ',key,' is ', pos)"
   ]
  },
  {
   "cell_type": "markdown",
   "metadata": {},
   "source": [
    "### Evaluation of Iterative Quaternary Search"
   ]
  },
  {
   "cell_type": "code",
   "execution_count": 78,
   "metadata": {},
   "outputs": [],
   "source": [
    "Arr = list(range(1,11))"
   ]
  },
  {
   "cell_type": "code",
   "execution_count": 79,
   "metadata": {},
   "outputs": [],
   "source": [
    "l,r,key = 0,len(Arr) - 1,5"
   ]
  },
  {
   "cell_type": "code",
   "execution_count": 80,
   "metadata": {},
   "outputs": [],
   "source": [
    "pos = quaternarySearchIterative(Arr,key,l,r)"
   ]
  },
  {
   "cell_type": "code",
   "execution_count": 81,
   "metadata": {
    "scrolled": true
   },
   "outputs": [
    {
     "name": "stdout",
     "output_type": "stream",
     "text": [
      "Index of  5  is  4\n"
     ]
    }
   ],
   "source": [
    "print('Index of ',key,' is ', pos)"
   ]
  },
  {
   "cell_type": "code",
   "execution_count": null,
   "metadata": {},
   "outputs": [],
   "source": []
  }
 ],
 "metadata": {
  "kernelspec": {
   "display_name": "Python 3",
   "language": "python",
   "name": "python3"
  },
  "language_info": {
   "codemirror_mode": {
    "name": "ipython",
    "version": 3
   },
   "file_extension": ".py",
   "mimetype": "text/x-python",
   "name": "python",
   "nbconvert_exporter": "python",
   "pygments_lexer": "ipython3",
   "version": "3.6.5"
  }
 },
 "nbformat": 4,
 "nbformat_minor": 2
}
